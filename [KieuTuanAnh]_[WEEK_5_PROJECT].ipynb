{
  "nbformat": 4,
  "nbformat_minor": 0,
  "metadata": {
    "colab": {
      "name": "[KieuTuanAnh]_[WEEK_5_PROJECT]",
      "provenance": [],
      "collapsed_sections": [],
      "authorship_tag": "ABX9TyN+Gy6VNbXws/k9mbrm/qtm",
      "include_colab_link": true
    },
    "kernelspec": {
      "name": "python3",
      "display_name": "Python 3"
    }
  },
  "cells": [
    {
      "cell_type": "markdown",
      "metadata": {
        "id": "view-in-github",
        "colab_type": "text"
      },
      "source": [
        "<a href=\"https://colab.research.google.com/github/kieutuananh/Week5_Project/blob/master/%5BKieuTuanAnh%5D_%5BWEEK_5_PROJECT%5D.ipynb\" target=\"_parent\"><img src=\"https://colab.research.google.com/assets/colab-badge.svg\" alt=\"Open In Colab\"/></a>"
      ]
    },
    {
      "cell_type": "markdown",
      "metadata": {
        "id": "EYLHJ6_jYb5F",
        "colab_type": "text"
      },
      "source": [
        "# Simple Movie Reviews Analysis Using Logistic Regression"
      ]
    },
    {
      "cell_type": "markdown",
      "metadata": {
        "id": "n3uAGTo2zi4b",
        "colab_type": "text"
      },
      "source": [
        "> In this notebook, we gonna make a simple NLP model on labeled data set, and make prediction on a non labled dataset. The given labled dataset is about opinion on movies from audience and the following sentiments. Those sentiments are 0 which is negative review or 1 which is positive review. "
      ]
    },
    {
      "cell_type": "code",
      "metadata": {
        "id": "pdzOixTfWkGt",
        "colab_type": "code",
        "outputId": "8ef90e61-a69f-4f75-bcf8-ba42599043ac",
        "colab": {
          "base_uri": "https://localhost:8080/",
          "height": 121
        }
      },
      "source": [
        "from google.colab import drive\n",
        "drive.mount('/content/drive')\n"
      ],
      "execution_count": 0,
      "outputs": [
        {
          "output_type": "stream",
          "text": [
            "Go to this URL in a browser: https://accounts.google.com/o/oauth2/auth?client_id=947318989803-6bn6qk8qdgf4n4g3pfee6491hc0brc4i.apps.googleusercontent.com&redirect_uri=urn%3aietf%3awg%3aoauth%3a2.0%3aoob&response_type=code&scope=email%20https%3a%2f%2fwww.googleapis.com%2fauth%2fdocs.test%20https%3a%2f%2fwww.googleapis.com%2fauth%2fdrive%20https%3a%2f%2fwww.googleapis.com%2fauth%2fdrive.photos.readonly%20https%3a%2f%2fwww.googleapis.com%2fauth%2fpeopleapi.readonly\n",
            "\n",
            "Enter your authorization code:\n",
            "··········\n",
            "Mounted at /content/drive\n"
          ],
          "name": "stdout"
        }
      ]
    },
    {
      "cell_type": "code",
      "metadata": {
        "id": "PVazuX_bZ3cC",
        "colab_type": "code",
        "colab": {}
      },
      "source": [
        "# Import pandas, numpy and matplotlib. Load the datasets save it in objects called data, data_test\n",
        "\n",
        "import numpy as np\n",
        "import pandas as pd\n",
        "import matplotlib.pyplot as plt\n",
        "\n",
        "data = pd.read_csv('/content/drive/My Drive/FTMLE - Tonga/Data/movie_review.csv', encoding='utf-8', sep='\\t')\n",
        "data_test = pd.read_csv('/content/drive/My Drive/FTMLE - Tonga/Data/movie_review_evaluation.csv', encoding='utf-8', sep='\\t')\n"
      ],
      "execution_count": 0,
      "outputs": []
    },
    {
      "cell_type": "markdown",
      "metadata": {
        "id": "cxr11VIo2ixL",
        "colab_type": "text"
      },
      "source": [
        "### Over view data"
      ]
    },
    {
      "cell_type": "markdown",
      "metadata": {
        "id": "96ZDIRp03JUw",
        "colab_type": "text"
      },
      "source": [
        "- The dataset has 2500 rows and 3 columns with no null value. \n",
        "- We gonna use 'review', and 'sentiment' columns for evaluation. \n",
        "> - We can see some expression like 'wonderful film', 'good movie'... belong to positive reviews, and 'so bad', 'boring stuff'... belong to negative reivews. But sometime it is more complicated when 'good idea w\\ this movie' appear in a negative reviews. So it's interesting to see how the computer handle that.\n",
        "> - Those review are short paragraphs which is a long string have numbers, word, symbols, html markup. We have to clean it up and repair for vetorization."
      ]
    },
    {
      "cell_type": "code",
      "metadata": {
        "id": "HAJqNh4Jn8v1",
        "colab_type": "code",
        "outputId": "facc2053-0da3-4064-e23a-449e62f29dde",
        "colab": {
          "base_uri": "https://localhost:8080/",
          "height": 343
        }
      },
      "source": [
        "# Take a look at data to have a overall sense\n",
        "data.sample(10)"
      ],
      "execution_count": 0,
      "outputs": [
        {
          "output_type": "execute_result",
          "data": {
            "text/html": [
              "<div>\n",
              "<style scoped>\n",
              "    .dataframe tbody tr th:only-of-type {\n",
              "        vertical-align: middle;\n",
              "    }\n",
              "\n",
              "    .dataframe tbody tr th {\n",
              "        vertical-align: top;\n",
              "    }\n",
              "\n",
              "    .dataframe thead th {\n",
              "        text-align: right;\n",
              "    }\n",
              "</style>\n",
              "<table border=\"1\" class=\"dataframe\">\n",
              "  <thead>\n",
              "    <tr style=\"text-align: right;\">\n",
              "      <th></th>\n",
              "      <th>id</th>\n",
              "      <th>review</th>\n",
              "      <th>sentiment</th>\n",
              "    </tr>\n",
              "  </thead>\n",
              "  <tbody>\n",
              "    <tr>\n",
              "      <th>6700</th>\n",
              "      <td>3838_3</td>\n",
              "      <td>Terry West had a good idea w\\ this movie. He j...</td>\n",
              "      <td>0</td>\n",
              "    </tr>\n",
              "    <tr>\n",
              "      <th>6350</th>\n",
              "      <td>11727_4</td>\n",
              "      <td>I wouldn't call it awful, but nothing at all s...</td>\n",
              "      <td>0</td>\n",
              "    </tr>\n",
              "    <tr>\n",
              "      <th>3096</th>\n",
              "      <td>7933_4</td>\n",
              "      <td>I'm a huge Randolph Scott fan, but this film i...</td>\n",
              "      <td>0</td>\n",
              "    </tr>\n",
              "    <tr>\n",
              "      <th>14030</th>\n",
              "      <td>6280_4</td>\n",
              "      <td>Have you ever had a cool image in your mind th...</td>\n",
              "      <td>0</td>\n",
              "    </tr>\n",
              "    <tr>\n",
              "      <th>15664</th>\n",
              "      <td>2254_8</td>\n",
              "      <td>Fox's epic telling of one a America's greatest...</td>\n",
              "      <td>1</td>\n",
              "    </tr>\n",
              "    <tr>\n",
              "      <th>7182</th>\n",
              "      <td>1171_10</td>\n",
              "      <td>I found this episode to be one of funniest I'v...</td>\n",
              "      <td>1</td>\n",
              "    </tr>\n",
              "    <tr>\n",
              "      <th>8701</th>\n",
              "      <td>6322_1</td>\n",
              "      <td>This was among the STUPIDEST and PREACHIEST of...</td>\n",
              "      <td>0</td>\n",
              "    </tr>\n",
              "    <tr>\n",
              "      <th>1849</th>\n",
              "      <td>10685_7</td>\n",
              "      <td>This film has a clear storyline, which is quit...</td>\n",
              "      <td>1</td>\n",
              "    </tr>\n",
              "    <tr>\n",
              "      <th>22375</th>\n",
              "      <td>4640_3</td>\n",
              "      <td>Hunters chase what they think is a man through...</td>\n",
              "      <td>0</td>\n",
              "    </tr>\n",
              "    <tr>\n",
              "      <th>58</th>\n",
              "      <td>11471_7</td>\n",
              "      <td>I am a big fan of cinema verite and saw this m...</td>\n",
              "      <td>1</td>\n",
              "    </tr>\n",
              "  </tbody>\n",
              "</table>\n",
              "</div>"
            ],
            "text/plain": [
              "            id                                             review  sentiment\n",
              "6700    3838_3  Terry West had a good idea w\\ this movie. He j...          0\n",
              "6350   11727_4  I wouldn't call it awful, but nothing at all s...          0\n",
              "3096    7933_4  I'm a huge Randolph Scott fan, but this film i...          0\n",
              "14030   6280_4  Have you ever had a cool image in your mind th...          0\n",
              "15664   2254_8  Fox's epic telling of one a America's greatest...          1\n",
              "7182   1171_10  I found this episode to be one of funniest I'v...          1\n",
              "8701    6322_1  This was among the STUPIDEST and PREACHIEST of...          0\n",
              "1849   10685_7  This film has a clear storyline, which is quit...          1\n",
              "22375   4640_3  Hunters chase what they think is a man through...          0\n",
              "58     11471_7  I am a big fan of cinema verite and saw this m...          1"
            ]
          },
          "metadata": {
            "tags": []
          },
          "execution_count": 28
        }
      ]
    },
    {
      "cell_type": "code",
      "metadata": {
        "id": "4RtI2lfbaIa_",
        "colab_type": "code",
        "outputId": "38216e79-94a5-4e50-f61e-71af7c4fc487",
        "colab": {
          "base_uri": "https://localhost:8080/",
          "height": 185
        }
      },
      "source": [
        "# Check for null value\n",
        "data.info()"
      ],
      "execution_count": 0,
      "outputs": [
        {
          "output_type": "stream",
          "text": [
            "<class 'pandas.core.frame.DataFrame'>\n",
            "RangeIndex: 22500 entries, 0 to 22499\n",
            "Data columns (total 3 columns):\n",
            " #   Column     Non-Null Count  Dtype \n",
            "---  ------     --------------  ----- \n",
            " 0   id         22500 non-null  object\n",
            " 1   review     22500 non-null  object\n",
            " 2   sentiment  22500 non-null  int64 \n",
            "dtypes: int64(1), object(2)\n",
            "memory usage: 527.5+ KB\n"
          ],
          "name": "stdout"
        }
      ]
    },
    {
      "cell_type": "code",
      "metadata": {
        "id": "LYipzt-PauAs",
        "colab_type": "code",
        "outputId": "78669a20-fa6f-488d-d892-06d63f35aa6a",
        "colab": {
          "base_uri": "https://localhost:8080/",
          "height": 34
        }
      },
      "source": [
        "# Check for duplication\n",
        "data['id'].nunique() == data.shape[0]"
      ],
      "execution_count": 0,
      "outputs": [
        {
          "output_type": "execute_result",
          "data": {
            "text/plain": [
              "True"
            ]
          },
          "metadata": {
            "tags": []
          },
          "execution_count": 45
        }
      ]
    },
    {
      "cell_type": "code",
      "metadata": {
        "id": "GvyovHBSaOyV",
        "colab_type": "code",
        "outputId": "71027de2-0edf-4202-972d-41a68b9b8f05",
        "colab": {
          "base_uri": "https://localhost:8080/",
          "height": 34
        }
      },
      "source": [
        "# Check if any values in 'setiment' columns have different number from 0 and 1\n",
        "(data['sentiment'] == 1).sum() + (data['sentiment'] == 0).sum() == data.shape[0]"
      ],
      "execution_count": 0,
      "outputs": [
        {
          "output_type": "execute_result",
          "data": {
            "text/plain": [
              "True"
            ]
          },
          "metadata": {
            "tags": []
          },
          "execution_count": 46
        }
      ]
    },
    {
      "cell_type": "code",
      "metadata": {
        "id": "i1TKs4LWrumP",
        "colab_type": "code",
        "outputId": "a8a4f918-8220-457b-8fc0-5d0a71cf2db5",
        "colab": {
          "base_uri": "https://localhost:8080/",
          "height": 275
        }
      },
      "source": [
        "# Check balance of train data\n",
        "plt.hist(data[data['sentiment'] == 1]['sentiment'],\n",
        "         bins=2, color='green', label='Positive')\n",
        "plt.hist(data[data['sentiment'] == 0]['sentiment'],\n",
        "         bins=2, color='blue', label='Negative')\n",
        "plt.title('Classes distribution in the train data', fontsize=20)\n",
        "plt.xticks([])\n",
        "plt.xlim(-0.5, 2)\n",
        "plt.legend()\n",
        "plt.show()"
      ],
      "execution_count": 0,
      "outputs": [
        {
          "output_type": "display_data",
          "data": {
            "image/png": "[encoded data removed]",
            "text/plain": [
              "<Figure size 432x288 with 1 Axes>"
            ]
          },
          "metadata": {
            "tags": [],
            "needs_background": "light"
          }
        }
      ]
    },
    {
      "cell_type": "code",
      "metadata": {
        "id": "PHcs_0dHcjHp",
        "colab_type": "code",
        "outputId": "70b44602-80fc-4793-dd31-05455ae5a995",
        "colab": {
          "base_uri": "https://localhost:8080/",
          "height": 54
        }
      },
      "source": [
        "# Take a look at a review\n",
        "data['review'][0]"
      ],
      "execution_count": 0,
      "outputs": [
        {
          "output_type": "execute_result",
          "data": {
            "text/plain": [
              "\"With all this stuff going down at the moment with MJ i've started listening to his music, watching the odd documentary here and there, watched The Wiz and watched Moonwalker again. Maybe i just want to get a certain insight into this guy who i thought was really cool in the eighties just to maybe make up my mind whether he is guilty or innocent. Moonwalker is part biography, part feature film which i remember going to see at the cinema when it was originally released. Some of it has subtle messages about MJ's feeling towards the press and also the obvious message of drugs are bad m'kay.<br /><br />Visually impressive but of course this is all about Michael Jackson so unless you remotely like MJ in anyway then you are going to hate this and find it boring. Some may call MJ an egotist for consenting to the making of this movie BUT MJ and most of his fans would say that he made it for the fans which if true is really nice of him.<br /><br />The actual feature film bit when it finally starts is only on for 20 minutes or so excluding the Smooth Criminal sequence and Joe Pesci is convincing as a psychopathic all powerful drug lord. Why he wants MJ dead so bad is beyond me. Because MJ overheard his plans? Nah, Joe Pesci's character ranted that he wanted people to know it is he who is supplying drugs etc so i dunno, maybe he just hates MJ's music.<br /><br />Lots of cool things in this like MJ turning into a car and a robot and the whole Speed Demon sequence. Also, the director must have had the patience of a saint when it came to filming the kiddy Bad sequence as usually directors hate working with one kid let alone a whole bunch of them performing a complex dance scene.<br /><br />Bottom line, this movie is for people who like MJ on one level or another (which i think is most people). If not, then stay away. It does try and give off a wholesome message and ironically MJ's bestest buddy in this movie is a girl! Michael Jackson is truly one of the most talented people ever to grace this planet but is he guilty? Well, with all the attention i've gave this subject....hmmm well i don't know because people can be different behind closed doors, i know this for a fact. He is either an extremely nice but stupid guy or one of the most sickest liars. I hope he is not the latter.\""
            ]
          },
          "metadata": {
            "tags": []
          },
          "execution_count": 155
        }
      ]
    },
    {
      "cell_type": "code",
      "metadata": {
        "id": "zEW_ClGBcuTo",
        "colab_type": "code",
        "outputId": "31906cd8-b83d-4706-d8b7-e06f7e781e90",
        "colab": {
          "base_uri": "https://localhost:8080/",
          "height": 54
        }
      },
      "source": [
        "# Remove HTML markup\n",
        "text = BeautifulSoup(data['review'][0]).get_text()\n",
        "print(text)"
      ],
      "execution_count": 0,
      "outputs": [
        {
          "output_type": "stream",
          "text": [
            "With all this stuff going down at the moment with MJ i've started listening to his music, watching the odd documentary here and there, watched The Wiz and watched Moonwalker again. Maybe i just want to get a certain insight into this guy who i thought was really cool in the eighties just to maybe make up my mind whether he is guilty or innocent. Moonwalker is part biography, part feature film which i remember going to see at the cinema when it was originally released. Some of it has subtle messages about MJ's feeling towards the press and also the obvious message of drugs are bad m'kay.Visually impressive but of course this is all about Michael Jackson so unless you remotely like MJ in anyway then you are going to hate this and find it boring. Some may call MJ an egotist for consenting to the making of this movie BUT MJ and most of his fans would say that he made it for the fans which if true is really nice of him.The actual feature film bit when it finally starts is only on for 20 minutes or so excluding the Smooth Criminal sequence and Joe Pesci is convincing as a psychopathic all powerful drug lord. Why he wants MJ dead so bad is beyond me. Because MJ overheard his plans? Nah, Joe Pesci's character ranted that he wanted people to know it is he who is supplying drugs etc so i dunno, maybe he just hates MJ's music.Lots of cool things in this like MJ turning into a car and a robot and the whole Speed Demon sequence. Also, the director must have had the patience of a saint when it came to filming the kiddy Bad sequence as usually directors hate working with one kid let alone a whole bunch of them performing a complex dance scene.Bottom line, this movie is for people who like MJ on one level or another (which i think is most people). If not, then stay away. It does try and give off a wholesome message and ironically MJ's bestest buddy in this movie is a girl! Michael Jackson is truly one of the most talented people ever to grace this planet but is he guilty? Well, with all the attention i've gave this subject....hmmm well i don't know because people can be different behind closed doors, i know this for a fact. He is either an extremely nice but stupid guy or one of the most sickest liars. I hope he is not the latter.\n"
          ],
          "name": "stdout"
        }
      ]
    },
    {
      "cell_type": "code",
      "metadata": {
        "id": "FV4lLGBAdXpa",
        "colab_type": "code",
        "colab": {}
      },
      "source": [
        "# Save emoticons for later appending\n",
        "for text in data['review'][:200]:\n",
        "  emoticons = re.findall('(?::|;|=)(?:-)?(?:\\)|\\(|D|P)', text)\n",
        "  print(emoticons)"
      ],
      "execution_count": 0,
      "outputs": []
    },
    {
      "cell_type": "code",
      "metadata": {
        "id": "w7_nE-qseG2V",
        "colab_type": "code",
        "outputId": "7744f51e-cfd7-4ef0-bd7e-657e8138327e",
        "colab": {
          "base_uri": "https://localhost:8080/",
          "height": 178
        }
      },
      "source": [
        "# Remove any non-word character and append the emoticons,\n",
        "# removing the nose character for standarization. Convert to lower case\n",
        "text = (re.sub('[\\W]+', ' ', text.lower()) + ' ' + ' '.join(emoticons).replace('-', ''))\n",
        "print(text)"
      ],
      "execution_count": 0,
      "outputs": [
        {
          "output_type": "error",
          "ename": "AttributeError",
          "evalue": "ignored",
          "traceback": [
            "\u001b[0;31m---------------------------------------------------------------------------\u001b[0m",
            "\u001b[0;31mAttributeError\u001b[0m                            Traceback (most recent call last)",
            "\u001b[0;32m<ipython-input-178-652c16e12489>\u001b[0m in \u001b[0;36m<module>\u001b[0;34m()\u001b[0m\n\u001b[0;32m----> 1\u001b[0;31m \u001b[0mtext\u001b[0m \u001b[0;34m=\u001b[0m \u001b[0;34m(\u001b[0m\u001b[0mre\u001b[0m\u001b[0;34m.\u001b[0m\u001b[0msub\u001b[0m\u001b[0;34m(\u001b[0m\u001b[0;34m'[\\W]+'\u001b[0m\u001b[0;34m,\u001b[0m \u001b[0;34m' '\u001b[0m\u001b[0;34m,\u001b[0m \u001b[0mtext\u001b[0m\u001b[0;34m.\u001b[0m\u001b[0mlower\u001b[0m\u001b[0;34m(\u001b[0m\u001b[0;34m)\u001b[0m\u001b[0;34m)\u001b[0m \u001b[0;34m+\u001b[0m \u001b[0;34m' '\u001b[0m \u001b[0;34m+\u001b[0m \u001b[0;34m' '\u001b[0m\u001b[0;34m.\u001b[0m\u001b[0mjoin\u001b[0m\u001b[0;34m(\u001b[0m\u001b[0memoticons\u001b[0m\u001b[0;34m)\u001b[0m\u001b[0;34m.\u001b[0m\u001b[0mreplace\u001b[0m\u001b[0;34m(\u001b[0m\u001b[0;34m'-'\u001b[0m\u001b[0;34m,\u001b[0m \u001b[0;34m''\u001b[0m\u001b[0;34m)\u001b[0m\u001b[0;34m)\u001b[0m\u001b[0;34m\u001b[0m\u001b[0;34m\u001b[0m\u001b[0m\n\u001b[0m\u001b[1;32m      2\u001b[0m \u001b[0mprint\u001b[0m\u001b[0;34m(\u001b[0m\u001b[0mtext\u001b[0m\u001b[0;34m)\u001b[0m\u001b[0;34m\u001b[0m\u001b[0;34m\u001b[0m\u001b[0m\n",
            "\u001b[0;31mAttributeError\u001b[0m: 'list' object has no attribute 'lower'"
          ]
        }
      ]
    },
    {
      "cell_type": "code",
      "metadata": {
        "id": "sFScw3Sqec14",
        "colab_type": "code",
        "outputId": "c0bcf59c-19e2-4d57-cda6-b4d983fc94ee",
        "colab": {
          "base_uri": "https://localhost:8080/",
          "height": 54
        }
      },
      "source": [
        "# Remove stop words\n",
        "import nltk\n",
        "from nltk.corpus import stopwords\n",
        "\n",
        "text = [word for word in text.split(' ') if not word in stopwords.words(\"english\")]\n",
        "print(text)\n",
        "\n"
      ],
      "execution_count": 0,
      "outputs": [
        {
          "output_type": "stream",
          "text": [
            "['hi', 'everyone', 'names', 'larissa', '13', 'years', 'old', '4', 'years', 'old', 'watch', 'curly', 'sue', 'knocked', 'socks', 'watching', 'movie', 'long', 'time', 'fact', '30', 'minutes', 'ago', 'got', 'done', 'watching', 'alisan', 'porter', 'really', 'good', 'actor', 'love', 'movie', 'funny', 'dealing', 'cards', 'every', 'time', 'watch', 'movie', 'end', 'cry', 'said', 'know', '13', 'years', 'old', 'touching', 'story', 'really', 'weird', 'thats', 'alisan', '25', 'years', 'old', 'every', 'time', 'watch', 'movie', 'someone', 'always', 'young', 'movie', 'comes', 'like', 'year', 'make', 'u', 'watch', 'find', 'old', 'person', 'movie', 'really', 'u', 'wounder', 'go', 'one', 'age', 'next', 'like', 'harry', 'potter', 'movie', 'also', 'great', 'still', 'daniel', '12', 'years', 'old', 'first', 'movie', '11', 'could', 'go', '12', '16', '4', 'years', '13', 'sure', '16', 'right', 'think', 'almost', '18', 'thats', 'kind', 'weird', 'u', 'look', 'one', 'movie', 'next', '4', 'years', 'old', 'u', '1', 'last', 'sure', 'big', 'imagination', 'like', 'revile', 'kind', 'computer', 'person', 'like', 'lot', 'kids', 'things', 'also', 'smart', 'like', 'curly', 'sue', 'movie', 'one', 'thing', 'like', 'movie', 'guy', 'calls', 'foster', 'home', 'makes', 'curly', 'sue', 'get', 'taken', 'away', 'would', 'kill', 'guy', 'really', 'done', 'real', 'life', 'well', 'going', 'stop', 'writing', 'know', 'write', 'lot', 'sometimes', 'kids', 'lot', 'head', 'need', 'get', 'kids', 'never', 'get', 'learn', 'br', 'br', 'larissa', '']\n"
          ],
          "name": "stdout"
        }
      ]
    },
    {
      "cell_type": "code",
      "metadata": {
        "id": "QvdhTLC4figM",
        "colab_type": "code",
        "outputId": "98033b81-55ea-42a8-8e35-2f477b773dbb",
        "colab": {
          "base_uri": "https://localhost:8080/",
          "height": 54
        }
      },
      "source": [
        "# Stem words\n",
        "from nltk.stem.snowball import SnowballStemmer\n",
        "snowball_stem = SnowballStemmer('english')\n",
        "words_stem = [snowball_stem.stem(word) for word in text]\n",
        "print(words_stem)"
      ],
      "execution_count": 0,
      "outputs": [
        {
          "output_type": "stream",
          "text": [
            "['hi', 'everyon', 'name', 'larissa', '13', 'year', 'old', '4', 'year', 'old', 'watch', 'cur', 'sue', 'knock', 'sock', 'watch', 'movi', 'long', 'time', 'fact', '30', 'minut', 'ago', 'got', 'done', 'watch', 'alisan', 'porter', 'realli', 'good', 'actor', 'love', 'movi', 'funni', 'deal', 'card', 'everi', 'time', 'watch', 'movi', 'end', 'cri', 'said', 'know', '13', 'year', 'old', 'touch', 'stori', 'realli', 'weird', 'that', 'alisan', '25', 'year', 'old', 'everi', 'time', 'watch', 'movi', 'someon', 'alway', 'young', 'movi', 'come', 'like', 'year', 'make', 'u', 'watch', 'find', 'old', 'person', 'movi', 'realli', 'u', 'wounder', 'go', 'one', 'age', 'next', 'like', 'harri', 'potter', 'movi', 'also', 'great', 'still', 'daniel', '12', 'year', 'old', 'first', 'movi', '11', 'could', 'go', '12', '16', '4', 'year', '13', 'sure', '16', 'right', 'think', 'almost', '18', 'that', 'kind', 'weird', 'u', 'look', 'one', 'movi', 'next', '4', 'year', 'old', 'u', '1', 'last', 'sure', 'big', 'imagin', 'like', 'revil', 'kind', 'comput', 'person', 'like', 'lot', 'kid', 'thing', 'also', 'smart', 'like', 'cur', 'sue', 'movi', 'one', 'thing', 'like', 'movi', 'guy', 'call', 'foster', 'home', 'make', 'cur', 'sue', 'get', 'taken', 'away', 'would', 'kill', 'guy', 'realli', 'done', 'real', 'life', 'well', 'go', 'stop', 'write', 'know', 'write', 'lot', 'sometim', 'kid', 'lot', 'head', 'need', 'get', 'kid', 'never', 'get', 'learn', 'br', 'br', 'larissa', '']\n"
          ],
          "name": "stdout"
        }
      ]
    },
    {
      "cell_type": "markdown",
      "metadata": {
        "id": "y03L5EeN8Kha",
        "colab_type": "text"
      },
      "source": [
        "### Vectorize data\n",
        "> - Bag of words, TfidfVectorizer\n",
        "> - Tokenize with MWEtokenizer\n",
        "> - Stemming with SnowballStemmer('english')\n",
        "> - Adding more stop words from most common words in reviews\n"
      ]
    },
    {
      "cell_type": "code",
      "metadata": {
        "id": "4GXDhoQ9azLD",
        "colab_type": "code",
        "outputId": "1027b8f4-1f3c-4a7d-d6a3-98894839af8c",
        "colab": {
          "base_uri": "https://localhost:8080/",
          "height": 50
        }
      },
      "source": [
        "# Prepare tfidf vector for model training\n",
        "\n",
        "import nltk\n",
        "from bs4 import BeautifulSoup      \n",
        "from sklearn.feature_extraction.text import TfidfVectorizer\n",
        "from nltk.corpus import stopwords\n",
        "import re\n",
        "from nltk.stem.snowball import SnowballStemmer\n",
        "from nltk.tokenize import MWETokenizer\n",
        "\n",
        "tokenizer = MWETokenizer()\n",
        "Snowball_stem = SnowballStemmer('english')\n",
        "\n",
        "stop = stopwords.words('english')\n",
        "stop = stop + ['befor', 'movi', 'onc', 'onli', 'ourselv', 'stori', 'themselv', 'thi', 'wa', 'whi', 'yourselv', 'movie','film','movies', 'films', 'story', 'doe', 'dure']\n",
        "\n",
        "def tokenizer_stem(text):\n",
        "    return [Snowball_stem.stem(word) for word in tokenizer.tokenize(text.split())]\n",
        "\n",
        "def preprocessor(text):\n",
        "    \"\"\" Return a cleaned version of text\n",
        "    \"\"\"\n",
        "    # Remove HTML markup\n",
        "    text = BeautifulSoup(text).get_text()\n",
        "    #text = re.sub('<[^>]*>', '', text)\n",
        "    # Save emoticons for later appending\n",
        "    emoticons = re.findall('(?::|;|=)(?:-)?(?:\\)|\\(|D|P)', text)\n",
        "    # Remove any non-word character and append the emoticons,\n",
        "    # removing the nose character for standarization. Convert to lower case\n",
        "    text = (re.sub('[\\W]+', ' ', text.lower()) + ' ' + ' '.join(emoticons).replace('-', ''))\n",
        "    \n",
        "    return text\n",
        "\n",
        "tfidf = TfidfVectorizer(stop_words=stop,\n",
        "                        tokenizer=tokenizer_stem,\n",
        "                        preprocessor=preprocessor,\n",
        "                        ngram_range=(1, 1))"
      ],
      "execution_count": 0,
      "outputs": [
        {
          "output_type": "stream",
          "text": [
            "[nltk_data] Downloading package punkt to /root/nltk_data...\n",
            "[nltk_data]   Package punkt is already up-to-date!\n"
          ],
          "name": "stdout"
        }
      ]
    },
    {
      "cell_type": "code",
      "metadata": {
        "id": "Iwk_bSXLfSHw",
        "colab_type": "code",
        "outputId": "8c0c9893-b7e5-4343-f16b-286de6ef6fcd",
        "colab": {
          "base_uri": "https://localhost:8080/",
          "height": 286
        }
      },
      "source": [
        "# Take a look at tfidf vector\n",
        "print(tfidf)"
      ],
      "execution_count": 0,
      "outputs": [
        {
          "output_type": "stream",
          "text": [
            "TfidfVectorizer(analyzer='word', binary=False, decode_error='strict',\n",
            "                dtype=<class 'numpy.float64'>, encoding='utf-8',\n",
            "                input='content', lowercase=True, max_df=1.0, max_features=None,\n",
            "                min_df=1, ngram_range=(1, 1), norm='l2',\n",
            "                preprocessor=<function preprocessor at 0x7efd70fb82f0>,\n",
            "                smooth_idf=True,\n",
            "                stop_words=['i', 'me', 'my', 'myself', 'we', 'our', 'ours',\n",
            "                            'ourselves', 'you', \"you're\", \"you've\", \"you'll\",\n",
            "                            \"you'd\", 'your', 'yours', 'yourself', 'yourselves',\n",
            "                            'he', 'him', 'his', 'himself', 'she', \"she's\",\n",
            "                            'her', 'hers', 'herself', 'it', \"it's\", 'its',\n",
            "                            'itself', ...],\n",
            "                strip_accents=None, sublinear_tf=False,\n",
            "                token_pattern='(?u)\\\\b\\\\w\\\\w+\\\\b',\n",
            "                tokenizer=<function tokenizer_porter at 0x7efd70fb8048>,\n",
            "                use_idf=True, vocabulary=None)\n"
          ],
          "name": "stdout"
        }
      ]
    },
    {
      "cell_type": "markdown",
      "metadata": {
        "id": "qqE6XJGxb63C",
        "colab_type": "text"
      },
      "source": [
        "### Training model\n",
        "> - Split labled data to for tranining and testting model\n",
        "> - After finding the best model, we use all labled data for retraining model and hope for better prediction"
      ]
    },
    {
      "cell_type": "code",
      "metadata": {
        "id": "R-dm24irgStX",
        "colab_type": "code",
        "colab": {}
      },
      "source": [
        "# split the dataset in train and test\n",
        "\n",
        "from sklearn.model_selection import train_test_split\n",
        "\n",
        "X = data['review']\n",
        "#X_test = data_test['review']\n",
        "y = data['sentiment']\n",
        "#y_test = data_test['sentiment']\n",
        "X_train, X_test, y_train, y_test = train_test_split(X, y , test_size = 0.2)"
      ],
      "execution_count": 0,
      "outputs": []
    },
    {
      "cell_type": "code",
      "metadata": {
        "id": "PW1l3LQ9kl9Z",
        "colab_type": "code",
        "outputId": "bec38dd6-cce8-413f-a61f-d95b04c4f9d0",
        "colab": {
          "base_uri": "https://localhost:8080/",
          "height": 275
        }
      },
      "source": [
        "# Check balance train set\n",
        "plt.hist(y_train[y_train == 1],\n",
        "         bins=2, color='green', label='Positive')\n",
        "plt.hist(y_train[y_train == 0],\n",
        "         bins=2, color='blue', label='Negative')\n",
        "plt.title('Classes distribution in the train data', fontsize=20)\n",
        "plt.xticks([])\n",
        "plt.xlim(-0.5, 2)\n",
        "plt.legend()\n",
        "plt.show()"
      ],
      "execution_count": 0,
      "outputs": [
        {
          "output_type": "display_data",
          "data": {
            "image/png": "[encoded data removed]",
            "text/plain": [
              "<Figure size 432x288 with 1 Axes>"
            ]
          },
          "metadata": {
            "tags": [],
            "needs_background": "light"
          }
        }
      ]
    },
    {
      "cell_type": "code",
      "metadata": {
        "id": "NGIdXMgifrVV",
        "colab_type": "code",
        "outputId": "767e3c26-2f86-41ef-fb69-a5707fcd4007",
        "colab": {
          "base_uri": "https://localhost:8080/",
          "height": 457
        }
      },
      "source": [
        "# Fit train data for traning process\n",
        "from sklearn.pipeline import Pipeline\n",
        "from sklearn.linear_model import LogisticRegression\n",
        "\n",
        "# Create pipline\n",
        "clf = Pipeline([('vect', tfidf),\n",
        "                ('clf', LogisticRegression(random_state=0, max_iter=1000))])\n",
        "# Fit data and train model\n",
        "clf.fit(X_train, y_train)"
      ],
      "execution_count": 0,
      "outputs": [
        {
          "output_type": "stream",
          "text": [
            "/usr/local/lib/python3.6/dist-packages/sklearn/feature_extraction/text.py:385: UserWarning: Your stop_words may be inconsistent with your preprocessing. Tokenizing the stop words generated tokens ['abov', 'ani', 'becaus', 'veri'] not in stop_words.\n",
            "  'stop_words.' % sorted(inconsistent))\n"
          ],
          "name": "stderr"
        },
        {
          "output_type": "execute_result",
          "data": {
            "text/plain": [
              "Pipeline(memory=None,\n",
              "         steps=[('vect',\n",
              "                 TfidfVectorizer(analyzer='word', binary=False,\n",
              "                                 decode_error='strict',\n",
              "                                 dtype=<class 'numpy.float64'>,\n",
              "                                 encoding='utf-8', input='content',\n",
              "                                 lowercase=True, max_df=1.0, max_features=None,\n",
              "                                 min_df=1, ngram_range=(1, 1), norm='l2',\n",
              "                                 preprocessor=<function preprocessor at 0x7efd70fb82f0>,\n",
              "                                 smooth_idf=True,\n",
              "                                 stop_words=['i', 'me', 'my', 'myself', '...\n",
              "                                 token_pattern='(?u)\\\\b\\\\w\\\\w+\\\\b',\n",
              "                                 tokenizer=<function tokenizer_porter at 0x7efd70fb8048>,\n",
              "                                 use_idf=True, vocabulary=None)),\n",
              "                ('clf',\n",
              "                 LogisticRegression(C=1.0, class_weight=None, dual=False,\n",
              "                                    fit_intercept=True, intercept_scaling=1,\n",
              "                                    l1_ratio=None, max_iter=1000,\n",
              "                                    multi_class='auto', n_jobs=None,\n",
              "                                    penalty='l2', random_state=0,\n",
              "                                    solver='lbfgs', tol=0.0001, verbose=0,\n",
              "                                    warm_start=False))],\n",
              "         verbose=False)"
            ]
          },
          "metadata": {
            "tags": []
          },
          "execution_count": 13
        }
      ]
    },
    {
      "cell_type": "code",
      "metadata": {
        "id": "qQyPRZZ3tHRB",
        "colab_type": "code",
        "colab": {}
      },
      "source": [
        "# Test model\n",
        "predictions = clf.predict(X_test)"
      ],
      "execution_count": 0,
      "outputs": []
    },
    {
      "cell_type": "code",
      "metadata": {
        "id": "6F7rmrRNgdwh",
        "colab_type": "code",
        "outputId": "ccc3fa3c-e4d9-4624-e5ee-ed95cf042822",
        "colab": {
          "base_uri": "https://localhost:8080/",
          "height": 54
        }
      },
      "source": [
        "# Check accuracy:\n",
        "from sklearn.metrics import accuracy_score, confusion_matrix, classification_report\n",
        "\n",
        "accuracy_score(predictions, y_test)\n",
        "confusion_matrix(predictions, y_test)\n",
        "classification_report(y_test, predictions)"
      ],
      "execution_count": 0,
      "outputs": [
        {
          "output_type": "execute_result",
          "data": {
            "text/plain": [
              "'              precision    recall  f1-score   support\\n\\n           0       0.90      0.88      0.89      2220\\n           1       0.89      0.90      0.89      2280\\n\\n    accuracy                           0.89      4500\\n   macro avg       0.89      0.89      0.89      4500\\nweighted avg       0.89      0.89      0.89      4500\\n'"
            ]
          },
          "metadata": {
            "tags": []
          },
          "execution_count": 18
        }
      ]
    },
    {
      "cell_type": "code",
      "metadata": {
        "id": "RspQFsrJ3ZqU",
        "colab_type": "code",
        "outputId": "c723ff37-1b91-4513-c6d4-256d43d678d4",
        "colab": {
          "base_uri": "https://localhost:8080/",
          "height": 403
        }
      },
      "source": [
        "# After chose a best model so far, let's retrain it with more data\n",
        "# X = data['review']\n",
        "# y = data['sentiment']\n",
        "clf.fit(X, y)"
      ],
      "execution_count": 0,
      "outputs": [
        {
          "output_type": "execute_result",
          "data": {
            "text/plain": [
              "Pipeline(memory=None,\n",
              "         steps=[('vect',\n",
              "                 TfidfVectorizer(analyzer='word', binary=False,\n",
              "                                 decode_error='strict',\n",
              "                                 dtype=<class 'numpy.float64'>,\n",
              "                                 encoding='utf-8', input='content',\n",
              "                                 lowercase=True, max_df=1.0, max_features=None,\n",
              "                                 min_df=1, ngram_range=(1, 1), norm='l2',\n",
              "                                 preprocessor=<function preprocessor at 0x7efd70fb82f0>,\n",
              "                                 smooth_idf=True,\n",
              "                                 stop_words=['i', 'me', 'my', 'myself', '...\n",
              "                                 token_pattern='(?u)\\\\b\\\\w\\\\w+\\\\b',\n",
              "                                 tokenizer=<function tokenizer_porter at 0x7efd70fb8048>,\n",
              "                                 use_idf=True, vocabulary=None)),\n",
              "                ('clf',\n",
              "                 LogisticRegression(C=1.0, class_weight=None, dual=False,\n",
              "                                    fit_intercept=True, intercept_scaling=1,\n",
              "                                    l1_ratio=None, max_iter=1000,\n",
              "                                    multi_class='auto', n_jobs=None,\n",
              "                                    penalty='l2', random_state=0,\n",
              "                                    solver='lbfgs', tol=0.0001, verbose=0,\n",
              "                                    warm_start=False))],\n",
              "         verbose=False)"
            ]
          },
          "metadata": {
            "tags": []
          },
          "execution_count": 19
        }
      ]
    },
    {
      "cell_type": "code",
      "metadata": {
        "id": "53XQdC3buZkF",
        "colab_type": "code",
        "outputId": "8cfdc028-76c0-4e42-bedd-db21ee8dec88",
        "colab": {
          "base_uri": "https://localhost:8080/",
          "height": 168
        }
      },
      "source": [
        "# Take a look at unlabled data set\n",
        "data_test.info()"
      ],
      "execution_count": 0,
      "outputs": [
        {
          "output_type": "stream",
          "text": [
            "<class 'pandas.core.frame.DataFrame'>\n",
            "RangeIndex: 2500 entries, 0 to 2499\n",
            "Data columns (total 2 columns):\n",
            " #   Column  Non-Null Count  Dtype \n",
            "---  ------  --------------  ----- \n",
            " 0   id      2500 non-null   object\n",
            " 1   review  2500 non-null   object\n",
            "dtypes: object(2)\n",
            "memory usage: 39.2+ KB\n"
          ],
          "name": "stdout"
        }
      ]
    },
    {
      "cell_type": "code",
      "metadata": {
        "id": "erXgBLbbXodl",
        "colab_type": "code",
        "colab": {}
      },
      "source": [
        "data_test['predict_sentiment'] = clf.predict(data_test['review'])"
      ],
      "execution_count": 0,
      "outputs": []
    },
    {
      "cell_type": "code",
      "metadata": {
        "id": "T3Pfc1x8u0yx",
        "colab_type": "code",
        "colab": {}
      },
      "source": [
        "# summit\n",
        "import os\n",
        "data_test.to_csv('KieuTuanAnh.csv', index=False)"
      ],
      "execution_count": 0,
      "outputs": []
    },
    {
      "cell_type": "markdown",
      "metadata": {
        "id": "0M9Xf3xXer93",
        "colab_type": "text"
      },
      "source": [
        "### What else can we do?\n",
        "> - Above is very basic NLP model. There's plenty ways to build a better model. I tried Lemmatizer, Bigram, other Tokenizer, but haven't had a good result yet. And a lot more method that haven't tried.\n",
        "\n",
        "- https://medium.com/@ageitgey/natural-language-processing-is-fun-9a0bff37854e\n",
        "- https://www.datacamp.com/community/tutorials/stemming-lemmatization-python\n",
        "- https://towardsdatascience.com/nlp-for-beginners-cleaning-preprocessing-text-data-ae8e306bef0f\n",
        "\n"
      ]
    }
  ]
}