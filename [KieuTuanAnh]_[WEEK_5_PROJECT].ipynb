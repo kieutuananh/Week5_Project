{
  "nbformat": 4,
  "nbformat_minor": 0,
  "metadata": {
    "colab": {
      "name": "[KieuTuanAnh]_[WEEK_5_PROJECT]",
      "provenance": [],
      "collapsed_sections": [],
      "toc_visible": true,
      "authorship_tag": "ABX9TyNXbkzAL1URh4/tJlyAJqpW"
    },
    "kernelspec": {
      "name": "python3",
      "display_name": "Python 3"
    }
  },
  "cells": [
    {
      "cell_type": "markdown",
      "metadata": {
        "id": "EYLHJ6_jYb5F",
        "colab_type": "text"
      },
      "source": [
        "# Simple Movie Reviews Analysis Using Logistic Regression"
      ]
    },
    {
      "cell_type": "markdown",
      "metadata": {
        "id": "n3uAGTo2zi4b",
        "colab_type": "text"
      },
      "source": [
        "> In this notebook, we gonna make a simple NLP model on labeled data set, and make prediction on a non labled dataset. The given labled dataset is about opinion on movies from audience and the following sentiments. Those sentiments are 0 which is negative review or 1 which is positive review. "
      ]
    },
    {
      "cell_type": "code",
      "metadata": {
        "id": "pdzOixTfWkGt",
        "colab_type": "code",
        "outputId": "e9d56c98-9459-46f5-efb3-d8e9e79e435b",
        "colab": {
          "base_uri": "https://localhost:8080/",
          "height": 121
        }
      },
      "source": [
        "from google.colab import drive\n",
        "drive.mount('/content/drive')\n"
      ],
      "execution_count": 20,
      "outputs": [
        {
          "output_type": "stream",
          "text": [
            "Go to this URL in a browser: https://accounts.google.com/o/oauth2/auth?client_id=947318989803-6bn6qk8qdgf4n4g3pfee6491hc0brc4i.apps.googleusercontent.com&redirect_uri=urn%3aietf%3awg%3aoauth%3a2.0%3aoob&response_type=code&scope=email%20https%3a%2f%2fwww.googleapis.com%2fauth%2fdocs.test%20https%3a%2f%2fwww.googleapis.com%2fauth%2fdrive%20https%3a%2f%2fwww.googleapis.com%2fauth%2fdrive.photos.readonly%20https%3a%2f%2fwww.googleapis.com%2fauth%2fpeopleapi.readonly\n",
            "\n",
            "Enter your authorization code:\n",
            "··········\n",
            "Mounted at /content/drive\n"
          ],
          "name": "stdout"
        }
      ]
    },
    {
      "cell_type": "code",
      "metadata": {
        "id": "PVazuX_bZ3cC",
        "colab_type": "code",
        "colab": {}
      },
      "source": [
        "# Import pandas, numpy and matplotlib. Load the datasets save it in objects called data, data_test\n",
        "\n",
        "import numpy as np\n",
        "import pandas as pd\n",
        "import matplotlib.pyplot as plt\n",
        "\n",
        "data = pd.read_csv('/content/drive/My Drive/FTMLE - Tonga/Data/movie_review.csv', encoding='utf-8', sep='\\t')\n",
        "data_test = pd.read_csv('/content/drive/My Drive/FTMLE - Tonga/Data/movie_review_evaluation.csv', encoding='utf-8', sep='\\t')\n"
      ],
      "execution_count": 0,
      "outputs": []
    },
    {
      "cell_type": "markdown",
      "metadata": {
        "id": "cxr11VIo2ixL",
        "colab_type": "text"
      },
      "source": [
        "### Over view data"
      ]
    },
    {
      "cell_type": "markdown",
      "metadata": {
        "id": "96ZDIRp03JUw",
        "colab_type": "text"
      },
      "source": [
        "- The dataset has 2500 rows and 3 columns with no null value. \n",
        "- We gonna use 'review', and 'sentiment' columns for evaluation. \n",
        "> - We can see some expression like 'wonderful film', 'good movie'... belong to positive reviews, and 'so bad', 'boring stuff'... belong to negative reivews. But sometime it is more complicated when 'good idea w\\ this movie' appear in a negative reviews. So it's interesting to see how the computer handle that.\n",
        "> - Those review are short paragraphs which is a long string have numbers, word, symbols, html markup. We have to clean it up and repair for vetorization."
      ]
    },
    {
      "cell_type": "code",
      "metadata": {
        "id": "HAJqNh4Jn8v1",
        "colab_type": "code",
        "outputId": "7be35676-bc42-41d1-aa97-32de9b74f8c6",
        "colab": {
          "base_uri": "https://localhost:8080/",
          "height": 343
        }
      },
      "source": [
        "# Take a look at data to have a overall sense\n",
        "data.sample(10)"
      ],
      "execution_count": 22,
      "outputs": [
        {
          "output_type": "execute_result",
          "data": {
            "text/html": [
              "<div>\n",
              "<style scoped>\n",
              "    .dataframe tbody tr th:only-of-type {\n",
              "        vertical-align: middle;\n",
              "    }\n",
              "\n",
              "    .dataframe tbody tr th {\n",
              "        vertical-align: top;\n",
              "    }\n",
              "\n",
              "    .dataframe thead th {\n",
              "        text-align: right;\n",
              "    }\n",
              "</style>\n",
              "<table border=\"1\" class=\"dataframe\">\n",
              "  <thead>\n",
              "    <tr style=\"text-align: right;\">\n",
              "      <th></th>\n",
              "      <th>id</th>\n",
              "      <th>review</th>\n",
              "      <th>sentiment</th>\n",
              "    </tr>\n",
              "  </thead>\n",
              "  <tbody>\n",
              "    <tr>\n",
              "      <th>6862</th>\n",
              "      <td>5241_3</td>\n",
              "      <td>Tell the truth Iâm a bit stun to see all the...</td>\n",
              "      <td>0</td>\n",
              "    </tr>\n",
              "    <tr>\n",
              "      <th>22307</th>\n",
              "      <td>691_3</td>\n",
              "      <td>This one probably does not fit in the bottom o...</td>\n",
              "      <td>0</td>\n",
              "    </tr>\n",
              "    <tr>\n",
              "      <th>22437</th>\n",
              "      <td>11117_10</td>\n",
              "      <td>Not only do the storylines in \\The Sopranos\\\" ...</td>\n",
              "      <td>1</td>\n",
              "    </tr>\n",
              "    <tr>\n",
              "      <th>6521</th>\n",
              "      <td>10946_7</td>\n",
              "      <td>Don't listen to the prissy critics who are pro...</td>\n",
              "      <td>1</td>\n",
              "    </tr>\n",
              "    <tr>\n",
              "      <th>1677</th>\n",
              "      <td>9492_4</td>\n",
              "      <td>One star for the \\plot\\\". One star for the act...</td>\n",
              "      <td>0</td>\n",
              "    </tr>\n",
              "    <tr>\n",
              "      <th>8144</th>\n",
              "      <td>12115_4</td>\n",
              "      <td>I've been working my way through a collection ...</td>\n",
              "      <td>0</td>\n",
              "    </tr>\n",
              "    <tr>\n",
              "      <th>6691</th>\n",
              "      <td>11346_10</td>\n",
              "      <td>I grew up with H.R. Pufnstuff and the dashingl...</td>\n",
              "      <td>1</td>\n",
              "    </tr>\n",
              "    <tr>\n",
              "      <th>7672</th>\n",
              "      <td>2627_9</td>\n",
              "      <td>Finally, Timon and Pumbaa in their own film......</td>\n",
              "      <td>1</td>\n",
              "    </tr>\n",
              "    <tr>\n",
              "      <th>6464</th>\n",
              "      <td>4146_1</td>\n",
              "      <td>After watching this thing, then reading the su...</td>\n",
              "      <td>0</td>\n",
              "    </tr>\n",
              "    <tr>\n",
              "      <th>16235</th>\n",
              "      <td>7148_1</td>\n",
              "      <td>Before watching this film I had very low expec...</td>\n",
              "      <td>0</td>\n",
              "    </tr>\n",
              "  </tbody>\n",
              "</table>\n",
              "</div>"
            ],
            "text/plain": [
              "             id                                             review  sentiment\n",
              "6862     5241_3  Tell the truth Iâm a bit stun to see all the...          0\n",
              "22307     691_3  This one probably does not fit in the bottom o...          0\n",
              "22437  11117_10  Not only do the storylines in \\The Sopranos\\\" ...          1\n",
              "6521    10946_7  Don't listen to the prissy critics who are pro...          1\n",
              "1677     9492_4  One star for the \\plot\\\". One star for the act...          0\n",
              "8144    12115_4  I've been working my way through a collection ...          0\n",
              "6691   11346_10  I grew up with H.R. Pufnstuff and the dashingl...          1\n",
              "7672     2627_9  Finally, Timon and Pumbaa in their own film......          1\n",
              "6464     4146_1  After watching this thing, then reading the su...          0\n",
              "16235    7148_1  Before watching this film I had very low expec...          0"
            ]
          },
          "metadata": {
            "tags": []
          },
          "execution_count": 22
        }
      ]
    },
    {
      "cell_type": "code",
      "metadata": {
        "id": "4RtI2lfbaIa_",
        "colab_type": "code",
        "outputId": "1a64c281-afdf-4326-de9f-4d3c8dba9330",
        "colab": {
          "base_uri": "https://localhost:8080/",
          "height": 185
        }
      },
      "source": [
        "# Check for null value\n",
        "data.info()"
      ],
      "execution_count": 23,
      "outputs": [
        {
          "output_type": "stream",
          "text": [
            "<class 'pandas.core.frame.DataFrame'>\n",
            "RangeIndex: 22500 entries, 0 to 22499\n",
            "Data columns (total 3 columns):\n",
            " #   Column     Non-Null Count  Dtype \n",
            "---  ------     --------------  ----- \n",
            " 0   id         22500 non-null  object\n",
            " 1   review     22500 non-null  object\n",
            " 2   sentiment  22500 non-null  int64 \n",
            "dtypes: int64(1), object(2)\n",
            "memory usage: 527.5+ KB\n"
          ],
          "name": "stdout"
        }
      ]
    },
    {
      "cell_type": "code",
      "metadata": {
        "id": "LYipzt-PauAs",
        "colab_type": "code",
        "outputId": "d909d437-bbb8-44ce-f808-f3c73d13d9f3",
        "colab": {
          "base_uri": "https://localhost:8080/",
          "height": 34
        }
      },
      "source": [
        "# Check for duplication\n",
        "data['id'].nunique() == data.shape[0]"
      ],
      "execution_count": 24,
      "outputs": [
        {
          "output_type": "execute_result",
          "data": {
            "text/plain": [
              "True"
            ]
          },
          "metadata": {
            "tags": []
          },
          "execution_count": 24
        }
      ]
    },
    {
      "cell_type": "code",
      "metadata": {
        "id": "GvyovHBSaOyV",
        "colab_type": "code",
        "outputId": "26f66c38-fd52-4c12-cde3-76b39d25e833",
        "colab": {
          "base_uri": "https://localhost:8080/",
          "height": 34
        }
      },
      "source": [
        "# Check if any values in 'setiment' columns have different number from 0 and 1\n",
        "(data['sentiment'] == 1).sum() + (data['sentiment'] == 0).sum() == data.shape[0]"
      ],
      "execution_count": 25,
      "outputs": [
        {
          "output_type": "execute_result",
          "data": {
            "text/plain": [
              "True"
            ]
          },
          "metadata": {
            "tags": []
          },
          "execution_count": 25
        }
      ]
    },
    {
      "cell_type": "code",
      "metadata": {
        "id": "i1TKs4LWrumP",
        "colab_type": "code",
        "outputId": "93323e7a-fcd5-4903-8851-3fa0eeaa1908",
        "colab": {
          "base_uri": "https://localhost:8080/",
          "height": 275
        }
      },
      "source": [
        "# Check balance of train data\n",
        "plt.hist(data[data['sentiment'] == 1]['sentiment'],\n",
        "         bins=2, color='green', label='Positive')\n",
        "plt.hist(data[data['sentiment'] == 0]['sentiment'],\n",
        "         bins=2, color='blue', label='Negative')\n",
        "plt.title('Classes distribution in the train data', fontsize=20)\n",
        "plt.xticks([])\n",
        "plt.xlim(-0.5, 2)\n",
        "plt.legend()\n",
        "plt.show()"
      ],
      "execution_count": 26,
      "outputs": [
        {
          "output_type": "display_data",
          "data": {
            "image/png": "[encoded data removed]",
            "text/plain": [
              "<Figure size 432x288 with 1 Axes>"
            ]
          },
          "metadata": {
            "tags": [],
            "needs_background": "light"
          }
        }
      ]
    },
    {
      "cell_type": "code",
      "metadata": {
        "id": "PHcs_0dHcjHp",
        "colab_type": "code",
        "outputId": "343c146d-baf6-4e49-daba-1ecca850ecbd",
        "colab": {
          "base_uri": "https://localhost:8080/",
          "height": 54
        }
      },
      "source": [
        "# Take a look at a review\n",
        "data['review'][0]"
      ],
      "execution_count": 27,
      "outputs": [
        {
          "output_type": "execute_result",
          "data": {
            "text/plain": [
              "\"With all this stuff going down at the moment with MJ i've started listening to his music, watching the odd documentary here and there, watched The Wiz and watched Moonwalker again. Maybe i just want to get a certain insight into this guy who i thought was really cool in the eighties just to maybe make up my mind whether he is guilty or innocent. Moonwalker is part biography, part feature film which i remember going to see at the cinema when it was originally released. Some of it has subtle messages about MJ's feeling towards the press and also the obvious message of drugs are bad m'kay.<br /><br />Visually impressive but of course this is all about Michael Jackson so unless you remotely like MJ in anyway then you are going to hate this and find it boring. Some may call MJ an egotist for consenting to the making of this movie BUT MJ and most of his fans would say that he made it for the fans which if true is really nice of him.<br /><br />The actual feature film bit when it finally starts is only on for 20 minutes or so excluding the Smooth Criminal sequence and Joe Pesci is convincing as a psychopathic all powerful drug lord. Why he wants MJ dead so bad is beyond me. Because MJ overheard his plans? Nah, Joe Pesci's character ranted that he wanted people to know it is he who is supplying drugs etc so i dunno, maybe he just hates MJ's music.<br /><br />Lots of cool things in this like MJ turning into a car and a robot and the whole Speed Demon sequence. Also, the director must have had the patience of a saint when it came to filming the kiddy Bad sequence as usually directors hate working with one kid let alone a whole bunch of them performing a complex dance scene.<br /><br />Bottom line, this movie is for people who like MJ on one level or another (which i think is most people). If not, then stay away. It does try and give off a wholesome message and ironically MJ's bestest buddy in this movie is a girl! Michael Jackson is truly one of the most talented people ever to grace this planet but is he guilty? Well, with all the attention i've gave this subject....hmmm well i don't know because people can be different behind closed doors, i know this for a fact. He is either an extremely nice but stupid guy or one of the most sickest liars. I hope he is not the latter.\""
            ]
          },
          "metadata": {
            "tags": []
          },
          "execution_count": 27
        }
      ]
    },
    {
      "cell_type": "code",
      "metadata": {
        "id": "zEW_ClGBcuTo",
        "colab_type": "code",
        "outputId": "ad1fa58a-d805-4fc2-87e6-0ccbef171f7a",
        "colab": {
          "base_uri": "https://localhost:8080/",
          "height": 54
        }
      },
      "source": [
        "# Remove HTML markup\n",
        "text = BeautifulSoup(data['review'][0]).get_text()\n",
        "print(text)"
      ],
      "execution_count": 28,
      "outputs": [
        {
          "output_type": "stream",
          "text": [
            "With all this stuff going down at the moment with MJ i've started listening to his music, watching the odd documentary here and there, watched The Wiz and watched Moonwalker again. Maybe i just want to get a certain insight into this guy who i thought was really cool in the eighties just to maybe make up my mind whether he is guilty or innocent. Moonwalker is part biography, part feature film which i remember going to see at the cinema when it was originally released. Some of it has subtle messages about MJ's feeling towards the press and also the obvious message of drugs are bad m'kay.Visually impressive but of course this is all about Michael Jackson so unless you remotely like MJ in anyway then you are going to hate this and find it boring. Some may call MJ an egotist for consenting to the making of this movie BUT MJ and most of his fans would say that he made it for the fans which if true is really nice of him.The actual feature film bit when it finally starts is only on for 20 minutes or so excluding the Smooth Criminal sequence and Joe Pesci is convincing as a psychopathic all powerful drug lord. Why he wants MJ dead so bad is beyond me. Because MJ overheard his plans? Nah, Joe Pesci's character ranted that he wanted people to know it is he who is supplying drugs etc so i dunno, maybe he just hates MJ's music.Lots of cool things in this like MJ turning into a car and a robot and the whole Speed Demon sequence. Also, the director must have had the patience of a saint when it came to filming the kiddy Bad sequence as usually directors hate working with one kid let alone a whole bunch of them performing a complex dance scene.Bottom line, this movie is for people who like MJ on one level or another (which i think is most people). If not, then stay away. It does try and give off a wholesome message and ironically MJ's bestest buddy in this movie is a girl! Michael Jackson is truly one of the most talented people ever to grace this planet but is he guilty? Well, with all the attention i've gave this subject....hmmm well i don't know because people can be different behind closed doors, i know this for a fact. He is either an extremely nice but stupid guy or one of the most sickest liars. I hope he is not the latter.\n"
          ],
          "name": "stdout"
        }
      ]
    },
    {
      "cell_type": "code",
      "metadata": {
        "id": "FV4lLGBAdXpa",
        "colab_type": "code",
        "colab": {
          "base_uri": "https://localhost:8080/",
          "height": 1000
        },
        "outputId": "36194697-bab9-4bfa-9dc5-98ba65be8f8a"
      },
      "source": [
        "# Save emoticons for later appending\n",
        "for text in data['review'][:200]:\n",
        "  emoticons = re.findall('(?::|;|=)(?:-)?(?:\\)|\\(|D|P)', text)\n",
        "  print(emoticons)"
      ],
      "execution_count": 29,
      "outputs": [
        {
          "output_type": "stream",
          "text": [
            "[]\n",
            "[]\n",
            "[]\n",
            "[]\n",
            "[]\n",
            "[]\n",
            "[]\n",
            "[]\n",
            "[]\n",
            "[]\n",
            "[]\n",
            "[]\n",
            "[]\n",
            "[]\n",
            "[]\n",
            "[]\n",
            "[]\n",
            "[]\n",
            "[]\n",
            "[]\n",
            "[]\n",
            "[]\n",
            "[]\n",
            "[]\n",
            "[]\n",
            "[]\n",
            "[]\n",
            "[]\n",
            "[]\n",
            "[]\n",
            "[]\n",
            "[]\n",
            "[]\n",
            "[]\n",
            "[]\n",
            "[]\n",
            "[]\n",
            "[]\n",
            "[]\n",
            "[]\n",
            "[]\n",
            "[]\n",
            "[]\n",
            "[]\n",
            "[]\n",
            "[]\n",
            "[]\n",
            "[]\n",
            "[]\n",
            "[]\n",
            "[]\n",
            "[]\n",
            "[]\n",
            "[]\n",
            "[]\n",
            "[]\n",
            "[]\n",
            "[]\n",
            "[]\n",
            "[]\n",
            "[]\n",
            "[]\n",
            "[]\n",
            "[]\n",
            "[]\n",
            "[]\n",
            "[]\n",
            "[]\n",
            "[]\n",
            "[]\n",
            "[]\n",
            "[]\n",
            "[]\n",
            "[]\n",
            "[]\n",
            "[]\n",
            "[]\n",
            "[]\n",
            "[]\n",
            "[]\n",
            "[]\n",
            "[]\n",
            "[]\n",
            "[]\n",
            "[]\n",
            "[]\n",
            "[]\n",
            "[]\n",
            "[]\n",
            "[]\n",
            "[]\n",
            "[]\n",
            "[]\n",
            "[]\n",
            "[]\n",
            "[]\n",
            "[]\n",
            "[]\n",
            "[]\n",
            "[]\n",
            "[]\n",
            "[]\n",
            "[]\n",
            "[]\n",
            "[]\n",
            "[]\n",
            "[]\n",
            "[]\n",
            "[]\n",
            "[]\n",
            "[]\n",
            "[]\n",
            "[]\n",
            "[]\n",
            "[]\n",
            "[]\n",
            "[]\n",
            "[]\n",
            "[]\n",
            "[]\n",
            "[]\n",
            "[]\n",
            "[]\n",
            "[]\n",
            "[]\n",
            "[]\n",
            "[]\n",
            "[]\n",
            "[]\n",
            "[]\n",
            "[]\n",
            "[]\n",
            "[]\n",
            "[]\n",
            "[]\n",
            "[]\n",
            "[]\n",
            "[]\n",
            "[]\n",
            "[]\n",
            "[]\n",
            "[]\n",
            "[]\n",
            "[]\n",
            "[]\n",
            "[]\n",
            "[]\n",
            "[]\n",
            "[]\n",
            "[]\n",
            "[]\n",
            "[]\n",
            "[]\n",
            "[]\n",
            "[]\n",
            "[]\n",
            "[]\n",
            "[]\n",
            "[]\n",
            "[]\n",
            "[]\n",
            "[]\n",
            "[]\n",
            "[]\n",
            "[':)']\n",
            "[]\n",
            "[]\n",
            "[]\n",
            "[]\n",
            "[]\n",
            "[]\n",
            "[]\n",
            "[]\n",
            "[]\n",
            "[]\n",
            "[]\n",
            "[]\n",
            "[]\n",
            "[]\n",
            "[]\n",
            "[]\n",
            "[]\n",
            "[]\n",
            "[]\n",
            "[]\n",
            "[]\n",
            "[]\n",
            "[]\n",
            "[]\n",
            "[]\n",
            "[]\n",
            "[]\n",
            "[]\n",
            "[]\n",
            "[]\n",
            "[]\n",
            "[]\n",
            "[]\n",
            "[]\n",
            "[]\n"
          ],
          "name": "stdout"
        }
      ]
    },
    {
      "cell_type": "code",
      "metadata": {
        "id": "w7_nE-qseG2V",
        "colab_type": "code",
        "outputId": "ef07fcfd-f98e-419f-a765-2120d3a59338",
        "colab": {
          "base_uri": "https://localhost:8080/",
          "height": 54
        }
      },
      "source": [
        "# Remove any non-word character and append the emoticons,\n",
        "# removing the nose character for standarization. Convert to lower case\n",
        "text = (re.sub('[\\W]+', ' ', text.lower()) + ' ' + ' '.join(emoticons).replace('-', ''))\n",
        "print(text)"
      ],
      "execution_count": 30,
      "outputs": [
        {
          "output_type": "stream",
          "text": [
            "hi everyone my names larissa i m 13 years old when i was about 4 years old i watch curly sue and it knocked my socks of i have been watching that movie for a long time in fact about 30 minutes ago i just got done watching it alisan porter is a really good actor and i love that movie its so funny when she is dealing the cards every time i watch that movie at the end of it i cry its so said i know i m only 13 years old but its such a touching story its really weird thats alisan is 25 years old now every time i watch a movie someone is always young and the movie comes out like a year after they make it and when u watch it and find out how old the person in the movie really is u wounder how they can go from one age to the next like harry potter that movie was also great but still daniel was about 12 years old in the first movie and i was about 11 so how could he go from 12 to 16 in about 4 years and i m only 13 i m not sure if he is 16 right now i think he is almost 18 but thats kind of weird when u look at one movie and on the next there about 4 years old then u when they were only 1 in the last i m not sure i have a big imagination and i like to revile it i am kind of a computer person but i like to do a lot of kids things also i am very smart like curly sue in the movie but one thing i don t like in the movie is when that guy calls the foster home and makes curly sue get taken away i would kill that guy if he really had done it in real life well i m going to stop writing i know a write a lot sometimes but kids do have a lot in there head that need to get out and if they don t kids will never get to learn br br larissa \n"
          ],
          "name": "stdout"
        }
      ]
    },
    {
      "cell_type": "code",
      "metadata": {
        "id": "sFScw3Sqec14",
        "colab_type": "code",
        "outputId": "8ba95c36-10d2-4275-cb9f-ea376860f187",
        "colab": {
          "base_uri": "https://localhost:8080/",
          "height": 54
        }
      },
      "source": [
        "# Remove stop words\n",
        "import nltk\n",
        "from nltk.corpus import stopwords\n",
        "\n",
        "text = [word for word in text.split(' ') if not word in stopwords.words(\"english\")]\n",
        "print(text)\n",
        "\n"
      ],
      "execution_count": 31,
      "outputs": [
        {
          "output_type": "stream",
          "text": [
            "['hi', 'everyone', 'names', 'larissa', '13', 'years', 'old', '4', 'years', 'old', 'watch', 'curly', 'sue', 'knocked', 'socks', 'watching', 'movie', 'long', 'time', 'fact', '30', 'minutes', 'ago', 'got', 'done', 'watching', 'alisan', 'porter', 'really', 'good', 'actor', 'love', 'movie', 'funny', 'dealing', 'cards', 'every', 'time', 'watch', 'movie', 'end', 'cry', 'said', 'know', '13', 'years', 'old', 'touching', 'story', 'really', 'weird', 'thats', 'alisan', '25', 'years', 'old', 'every', 'time', 'watch', 'movie', 'someone', 'always', 'young', 'movie', 'comes', 'like', 'year', 'make', 'u', 'watch', 'find', 'old', 'person', 'movie', 'really', 'u', 'wounder', 'go', 'one', 'age', 'next', 'like', 'harry', 'potter', 'movie', 'also', 'great', 'still', 'daniel', '12', 'years', 'old', 'first', 'movie', '11', 'could', 'go', '12', '16', '4', 'years', '13', 'sure', '16', 'right', 'think', 'almost', '18', 'thats', 'kind', 'weird', 'u', 'look', 'one', 'movie', 'next', '4', 'years', 'old', 'u', '1', 'last', 'sure', 'big', 'imagination', 'like', 'revile', 'kind', 'computer', 'person', 'like', 'lot', 'kids', 'things', 'also', 'smart', 'like', 'curly', 'sue', 'movie', 'one', 'thing', 'like', 'movie', 'guy', 'calls', 'foster', 'home', 'makes', 'curly', 'sue', 'get', 'taken', 'away', 'would', 'kill', 'guy', 'really', 'done', 'real', 'life', 'well', 'going', 'stop', 'writing', 'know', 'write', 'lot', 'sometimes', 'kids', 'lot', 'head', 'need', 'get', 'kids', 'never', 'get', 'learn', 'br', 'br', 'larissa', '']\n"
          ],
          "name": "stdout"
        }
      ]
    },
    {
      "cell_type": "code",
      "metadata": {
        "id": "QvdhTLC4figM",
        "colab_type": "code",
        "outputId": "0bc5fd4d-3ef5-400e-fd69-817b46a9a99c",
        "colab": {
          "base_uri": "https://localhost:8080/",
          "height": 54
        }
      },
      "source": [
        "# Stem words\n",
        "from nltk.stem.snowball import SnowballStemmer\n",
        "snowball_stem = SnowballStemmer('english')\n",
        "words_stem = [snowball_stem.stem(word) for word in text]\n",
        "print(words_stem)"
      ],
      "execution_count": 32,
      "outputs": [
        {
          "output_type": "stream",
          "text": [
            "['hi', 'everyon', 'name', 'larissa', '13', 'year', 'old', '4', 'year', 'old', 'watch', 'cur', 'sue', 'knock', 'sock', 'watch', 'movi', 'long', 'time', 'fact', '30', 'minut', 'ago', 'got', 'done', 'watch', 'alisan', 'porter', 'realli', 'good', 'actor', 'love', 'movi', 'funni', 'deal', 'card', 'everi', 'time', 'watch', 'movi', 'end', 'cri', 'said', 'know', '13', 'year', 'old', 'touch', 'stori', 'realli', 'weird', 'that', 'alisan', '25', 'year', 'old', 'everi', 'time', 'watch', 'movi', 'someon', 'alway', 'young', 'movi', 'come', 'like', 'year', 'make', 'u', 'watch', 'find', 'old', 'person', 'movi', 'realli', 'u', 'wounder', 'go', 'one', 'age', 'next', 'like', 'harri', 'potter', 'movi', 'also', 'great', 'still', 'daniel', '12', 'year', 'old', 'first', 'movi', '11', 'could', 'go', '12', '16', '4', 'year', '13', 'sure', '16', 'right', 'think', 'almost', '18', 'that', 'kind', 'weird', 'u', 'look', 'one', 'movi', 'next', '4', 'year', 'old', 'u', '1', 'last', 'sure', 'big', 'imagin', 'like', 'revil', 'kind', 'comput', 'person', 'like', 'lot', 'kid', 'thing', 'also', 'smart', 'like', 'cur', 'sue', 'movi', 'one', 'thing', 'like', 'movi', 'guy', 'call', 'foster', 'home', 'make', 'cur', 'sue', 'get', 'taken', 'away', 'would', 'kill', 'guy', 'realli', 'done', 'real', 'life', 'well', 'go', 'stop', 'write', 'know', 'write', 'lot', 'sometim', 'kid', 'lot', 'head', 'need', 'get', 'kid', 'never', 'get', 'learn', 'br', 'br', 'larissa', '']\n"
          ],
          "name": "stdout"
        }
      ]
    },
    {
      "cell_type": "markdown",
      "metadata": {
        "id": "y03L5EeN8Kha",
        "colab_type": "text"
      },
      "source": [
        "### Vectorize data\n",
        "> - Bag of words, TfidfVectorizer\n",
        "> - Tokenize with MWEtokenizer\n",
        "> - Stemming with SnowballStemmer('english')\n",
        "> - Adding more stop words from most common words in reviews\n"
      ]
    },
    {
      "cell_type": "code",
      "metadata": {
        "id": "4GXDhoQ9azLD",
        "colab_type": "code",
        "outputId": "e880c890-fc4c-4471-cb37-b8bdae4f609f",
        "colab": {
          "base_uri": "https://localhost:8080/",
          "height": 50
        }
      },
      "source": [
        "# Prepare tfidf vector for model training\n",
        "\n",
        "import nltk\n",
        "nltk.download('stopwords')\n",
        "from bs4 import BeautifulSoup      \n",
        "from sklearn.feature_extraction.text import TfidfVectorizer\n",
        "from nltk.corpus import stopwords\n",
        "import re\n",
        "from nltk.stem.snowball import SnowballStemmer\n",
        "from nltk.tokenize import MWETokenizer\n",
        "\n",
        "tokenizer = MWETokenizer()\n",
        "Snowball_stem = SnowballStemmer('english')\n",
        "\n",
        "stop = stopwords.words('english')\n",
        "stop = stop + ['befor', 'movi', 'onc', 'onli', 'ourselv', 'stori', 'themselv', 'thi', 'wa', 'whi', 'yourselv', 'movie','film','movies', 'films', 'story', 'doe', 'dure']\n",
        "stop.remove('not')\n",
        "\n",
        "def tokenizer_stem(text):\n",
        "    return [Snowball_stem.stem(word) for word in tokenizer.tokenize(text.split())]\n",
        "\n",
        "def preprocessor(text):\n",
        "    \"\"\" Return a cleaned version of text\n",
        "    \"\"\"\n",
        "    # Remove HTML markup\n",
        "    text = BeautifulSoup(text).get_text()\n",
        "    #text = re.sub('<[^>]*>', '', text)\n",
        "    # Save emoticons for later appending\n",
        "    emoticons = re.findall('(?::|;|=)(?:-)?(?:\\)|\\(|D|P)', text)\n",
        "    # Remove any non-word character and append the emoticons,\n",
        "    # removing the nose character for standarization. Convert to lower case\n",
        "    text = (re.sub('[\\W]+', ' ', text.lower()) + ' ' + ' '.join(emoticons).replace('-', ''))\n",
        "    \n",
        "    return text\n",
        "\n",
        "tfidf = TfidfVectorizer(stop_words=stop,\n",
        "                        tokenizer=tokenizer_stem,\n",
        "                        preprocessor=preprocessor,\n",
        "                        ngram_range=(1, 1))"
      ],
      "execution_count": 33,
      "outputs": [
        {
          "output_type": "stream",
          "text": [
            "[nltk_data] Downloading package stopwords to /root/nltk_data...\n",
            "[nltk_data]   Package stopwords is already up-to-date!\n"
          ],
          "name": "stdout"
        }
      ]
    },
    {
      "cell_type": "code",
      "metadata": {
        "id": "Iwk_bSXLfSHw",
        "colab_type": "code",
        "outputId": "84052a93-3d7c-4811-9144-6ad347cef690",
        "colab": {
          "base_uri": "https://localhost:8080/",
          "height": 286
        }
      },
      "source": [
        "# Take a look at tfidf vector\n",
        "print(tfidf)"
      ],
      "execution_count": 34,
      "outputs": [
        {
          "output_type": "stream",
          "text": [
            "TfidfVectorizer(analyzer='word', binary=False, decode_error='strict',\n",
            "                dtype=<class 'numpy.float64'>, encoding='utf-8',\n",
            "                input='content', lowercase=True, max_df=1.0, max_features=None,\n",
            "                min_df=1, ngram_range=(1, 1), norm='l2',\n",
            "                preprocessor=<function preprocessor at 0x7f408d0648c8>,\n",
            "                smooth_idf=True,\n",
            "                stop_words=['i', 'me', 'my', 'myself', 'we', 'our', 'ours',\n",
            "                            'ourselves', 'you', \"you're\", \"you've\", \"you'll\",\n",
            "                            \"you'd\", 'your', 'yours', 'yourself', 'yourselves',\n",
            "                            'he', 'him', 'his', 'himself', 'she', \"she's\",\n",
            "                            'her', 'hers', 'herself', 'it', \"it's\", 'its',\n",
            "                            'itself', ...],\n",
            "                strip_accents=None, sublinear_tf=False,\n",
            "                token_pattern='(?u)\\\\b\\\\w\\\\w+\\\\b',\n",
            "                tokenizer=<function tokenizer_stem at 0x7f408d508268>,\n",
            "                use_idf=True, vocabulary=None)\n"
          ],
          "name": "stdout"
        }
      ]
    },
    {
      "cell_type": "markdown",
      "metadata": {
        "id": "qqE6XJGxb63C",
        "colab_type": "text"
      },
      "source": [
        "### Training model\n",
        "> - Split labled data to for tranining and testting model\n",
        "> - After finding the best model, we use all labled data for retraining model and hope for better prediction"
      ]
    },
    {
      "cell_type": "code",
      "metadata": {
        "id": "R-dm24irgStX",
        "colab_type": "code",
        "colab": {}
      },
      "source": [
        "# split the dataset in train and test\n",
        "\n",
        "from sklearn.model_selection import train_test_split\n",
        "\n",
        "X = data['review']\n",
        "#X_test = data_test['review']\n",
        "y = data['sentiment']\n",
        "#y_test = data_test['sentiment']\n",
        "X_train, X_test, y_train, y_test = train_test_split(X, y , test_size = 0.2)"
      ],
      "execution_count": 0,
      "outputs": []
    },
    {
      "cell_type": "code",
      "metadata": {
        "id": "PW1l3LQ9kl9Z",
        "colab_type": "code",
        "outputId": "adfb1a11-c4f0-44b7-e002-83d1018610e8",
        "colab": {
          "base_uri": "https://localhost:8080/",
          "height": 275
        }
      },
      "source": [
        "# Check balance train set\n",
        "plt.hist(y_train[y_train == 1],\n",
        "         bins=2, color='green', label='Positive')\n",
        "plt.hist(y_train[y_train == 0],\n",
        "         bins=2, color='blue', label='Negative')\n",
        "plt.title('Classes distribution in the train data', fontsize=20)\n",
        "plt.xticks([])\n",
        "plt.xlim(-0.5, 2)\n",
        "plt.legend()\n",
        "plt.show()"
      ],
      "execution_count": 36,
      "outputs": [
        {
          "output_type": "display_data",
          "data": {
            "image/png": "[encoded data removed]",
            "text/plain": [
              "<Figure size 432x288 with 1 Axes>"
            ]
          },
          "metadata": {
            "tags": [],
            "needs_background": "light"
          }
        }
      ]
    },
    {
      "cell_type": "code",
      "metadata": {
        "id": "NGIdXMgifrVV",
        "colab_type": "code",
        "outputId": "a5b9fdbb-0b5b-4e14-bf06-5574c0b604eb",
        "colab": {
          "base_uri": "https://localhost:8080/",
          "height": 457
        }
      },
      "source": [
        "# Fit train data for traning process\n",
        "from sklearn.pipeline import Pipeline\n",
        "from sklearn.linear_model import LogisticRegression\n",
        "\n",
        "# Create pipline\n",
        "clf = Pipeline([('vect', tfidf),\n",
        "                ('clf', LogisticRegression(random_state=0, max_iter=1000))])\n",
        "# Fit data and train model\n",
        "clf.fit(X_train, y_train)"
      ],
      "execution_count": 37,
      "outputs": [
        {
          "output_type": "stream",
          "text": [
            "/usr/local/lib/python3.6/dist-packages/sklearn/feature_extraction/text.py:385: UserWarning: Your stop_words may be inconsistent with your preprocessing. Tokenizing the stop words generated tokens ['abov', 'ani', 'becaus', 'veri'] not in stop_words.\n",
            "  'stop_words.' % sorted(inconsistent))\n"
          ],
          "name": "stderr"
        },
        {
          "output_type": "execute_result",
          "data": {
            "text/plain": [
              "Pipeline(memory=None,\n",
              "         steps=[('vect',\n",
              "                 TfidfVectorizer(analyzer='word', binary=False,\n",
              "                                 decode_error='strict',\n",
              "                                 dtype=<class 'numpy.float64'>,\n",
              "                                 encoding='utf-8', input='content',\n",
              "                                 lowercase=True, max_df=1.0, max_features=None,\n",
              "                                 min_df=1, ngram_range=(1, 1), norm='l2',\n",
              "                                 preprocessor=<function preprocessor at 0x7f408d0648c8>,\n",
              "                                 smooth_idf=True,\n",
              "                                 stop_words=['i', 'me', 'my', 'myself', '...\n",
              "                                 token_pattern='(?u)\\\\b\\\\w\\\\w+\\\\b',\n",
              "                                 tokenizer=<function tokenizer_stem at 0x7f408d508268>,\n",
              "                                 use_idf=True, vocabulary=None)),\n",
              "                ('clf',\n",
              "                 LogisticRegression(C=1.0, class_weight=None, dual=False,\n",
              "                                    fit_intercept=True, intercept_scaling=1,\n",
              "                                    l1_ratio=None, max_iter=1000,\n",
              "                                    multi_class='auto', n_jobs=None,\n",
              "                                    penalty='l2', random_state=0,\n",
              "                                    solver='lbfgs', tol=0.0001, verbose=0,\n",
              "                                    warm_start=False))],\n",
              "         verbose=False)"
            ]
          },
          "metadata": {
            "tags": []
          },
          "execution_count": 37
        }
      ]
    },
    {
      "cell_type": "code",
      "metadata": {
        "id": "qQyPRZZ3tHRB",
        "colab_type": "code",
        "colab": {}
      },
      "source": [
        "# Test model\n",
        "predictions = clf.predict(X_test)"
      ],
      "execution_count": 0,
      "outputs": []
    },
    {
      "cell_type": "code",
      "metadata": {
        "id": "6F7rmrRNgdwh",
        "colab_type": "code",
        "outputId": "620cef4a-5dbf-4c39-a2e1-61a2f0259a89",
        "colab": {
          "base_uri": "https://localhost:8080/",
          "height": 168
        }
      },
      "source": [
        "# Check accuracy:\n",
        "from sklearn.metrics import accuracy_score, confusion_matrix, classification_report\n",
        "\n",
        "accuracy_score(predictions, y_test)\n",
        "confusion_matrix(predictions, y_test)\n",
        "print(classification_report(y_test, predictions))"
      ],
      "execution_count": 39,
      "outputs": [
        {
          "output_type": "stream",
          "text": [
            "              precision    recall  f1-score   support\n",
            "\n",
            "           0       0.90      0.87      0.89      2253\n",
            "           1       0.88      0.90      0.89      2247\n",
            "\n",
            "    accuracy                           0.89      4500\n",
            "   macro avg       0.89      0.89      0.89      4500\n",
            "weighted avg       0.89      0.89      0.89      4500\n",
            "\n"
          ],
          "name": "stdout"
        }
      ]
    },
    {
      "cell_type": "code",
      "metadata": {
        "id": "RspQFsrJ3ZqU",
        "colab_type": "code",
        "outputId": "c38a4308-a995-4a6a-b98f-932b5cc3136d",
        "colab": {
          "base_uri": "https://localhost:8080/",
          "height": 403
        }
      },
      "source": [
        "# After chose a best model so far, let's retrain it with more data\n",
        "X = data['review']\n",
        "y = data['sentiment']\n",
        "clf.fit(X, y)"
      ],
      "execution_count": 40,
      "outputs": [
        {
          "output_type": "execute_result",
          "data": {
            "text/plain": [
              "Pipeline(memory=None,\n",
              "         steps=[('vect',\n",
              "                 TfidfVectorizer(analyzer='word', binary=False,\n",
              "                                 decode_error='strict',\n",
              "                                 dtype=<class 'numpy.float64'>,\n",
              "                                 encoding='utf-8', input='content',\n",
              "                                 lowercase=True, max_df=1.0, max_features=None,\n",
              "                                 min_df=1, ngram_range=(1, 1), norm='l2',\n",
              "                                 preprocessor=<function preprocessor at 0x7f408d0648c8>,\n",
              "                                 smooth_idf=True,\n",
              "                                 stop_words=['i', 'me', 'my', 'myself', '...\n",
              "                                 token_pattern='(?u)\\\\b\\\\w\\\\w+\\\\b',\n",
              "                                 tokenizer=<function tokenizer_stem at 0x7f408d508268>,\n",
              "                                 use_idf=True, vocabulary=None)),\n",
              "                ('clf',\n",
              "                 LogisticRegression(C=1.0, class_weight=None, dual=False,\n",
              "                                    fit_intercept=True, intercept_scaling=1,\n",
              "                                    l1_ratio=None, max_iter=1000,\n",
              "                                    multi_class='auto', n_jobs=None,\n",
              "                                    penalty='l2', random_state=0,\n",
              "                                    solver='lbfgs', tol=0.0001, verbose=0,\n",
              "                                    warm_start=False))],\n",
              "         verbose=False)"
            ]
          },
          "metadata": {
            "tags": []
          },
          "execution_count": 40
        }
      ]
    },
    {
      "cell_type": "code",
      "metadata": {
        "id": "53XQdC3buZkF",
        "colab_type": "code",
        "outputId": "5014023d-f897-4a93-f1b5-03c33b7e0e7e",
        "colab": {
          "base_uri": "https://localhost:8080/",
          "height": 168
        }
      },
      "source": [
        "# Take a look at unlabled data set\n",
        "data_test.info()"
      ],
      "execution_count": 41,
      "outputs": [
        {
          "output_type": "stream",
          "text": [
            "<class 'pandas.core.frame.DataFrame'>\n",
            "RangeIndex: 2500 entries, 0 to 2499\n",
            "Data columns (total 2 columns):\n",
            " #   Column  Non-Null Count  Dtype \n",
            "---  ------  --------------  ----- \n",
            " 0   id      2500 non-null   object\n",
            " 1   review  2500 non-null   object\n",
            "dtypes: object(2)\n",
            "memory usage: 39.2+ KB\n"
          ],
          "name": "stdout"
        }
      ]
    },
    {
      "cell_type": "code",
      "metadata": {
        "id": "erXgBLbbXodl",
        "colab_type": "code",
        "colab": {}
      },
      "source": [
        "data_test['predict_sentiment'] = clf.predict(data_test['review'])"
      ],
      "execution_count": 0,
      "outputs": []
    },
    {
      "cell_type": "code",
      "metadata": {
        "id": "T3Pfc1x8u0yx",
        "colab_type": "code",
        "colab": {}
      },
      "source": [
        "# summit\n",
        "import os\n",
        "data_test.to_csv('KieuTuanAnh.csv', index=False)"
      ],
      "execution_count": 0,
      "outputs": []
    },
    {
      "cell_type": "markdown",
      "metadata": {
        "id": "0M9Xf3xXer93",
        "colab_type": "text"
      },
      "source": [
        "### What else can we do?\n",
        "> - Above is very basic NLP model. There's plenty ways to build a better model. I tried Lemmatizer, Bigram, other Tokenizer, but haven't had a good result yet. And a lot more method that haven't tried.\n",
        "\n",
        "- https://medium.com/@ageitgey/natural-language-processing-is-fun-9a0bff37854e\n",
        "- https://www.datacamp.com/community/tutorials/stemming-lemmatization-python\n",
        "- https://towardsdatascience.com/nlp-for-beginners-cleaning-preprocessing-text-data-ae8e306bef0f\n",
        "\n"
      ]
    }
  ]
}